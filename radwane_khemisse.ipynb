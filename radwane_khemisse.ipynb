{
 "cells": [
  {
   "cell_type": "markdown",
   "metadata": {},
   "source": [
    "<html>\n",
    "    <h3>My Jupyter Notebook on IBM Watson Studio</h3> </html>\n",
    "\n"
   ]
  },
  {
   "cell_type": "markdown",
   "metadata": {},
   "source": [
    "<html>\n",
    "    <strong> radwane khemisse </strong>\n",
    "    <br>\n",
    "    I am a data science Student, And i want to become a successful data scientist on the future.\n",
    "    </html>\n",
    "    \n"
   ]
  },
  {
   "cell_type": "markdown",
   "metadata": {},
   "source": [
    "<html>\n",
    "    <em>I am interested in data science because it is a rapidly growing field that has the potential to solve complex problems and drive innovation. Also,  By analyzing data and creating models, data scientists can gain insights and make data-driven decisions to improve outcomes in various industries and domains.</em>\n",
    "</html>"
   ]
  },
  {
   "cell_type": "markdown",
   "metadata": {},
   "source": [
    "<html>\n",
    "    <h3> Compute the sum of two numbers</h3>\n",
    "</html>"
   ]
  },
  {
   "cell_type": "code",
   "execution_count": 1,
   "metadata": {},
   "outputs": [
    {
     "data": {
      "text/plain": [
       "2"
      ]
     },
     "execution_count": 1,
     "metadata": {},
     "output_type": "execute_result"
    }
   ],
   "source": [
    "1+1"
   ]
  },
  {
   "cell_type": "markdown",
   "metadata": {},
   "source": [
    "<html>\n",
    "    <h3> My Favorite Fruits </h3>\n",
    "    <h4> Here are some of my favorite fruits:</h4>\n",
    "    <ul>\n",
    "      <li>Apples</li>\n",
    "      <li>Oranges</li>\n",
    "      <li>Bananas</li>\n",
    "      <li>Grapes</li>\n",
    "    </ul>\n",
    "    <br>\n",
    "    <h4> And here's a table showing some information about each fruit:</h4>\n",
    "    <table>\n",
    "  <thead>\n",
    "    <tr>\n",
    "      <th>Fruit</th>\n",
    "      <th>Color</th>\n",
    "      <th>Taste</th>\n",
    "    </tr>\n",
    "  </thead>\n",
    "  <tbody>\n",
    "    <tr>\n",
    "      <td>Apple</td>\n",
    "      <td>Red</td>\n",
    "      <td>Sweet</td>\n",
    "    </tr>\n",
    "    <tr>\n",
    "      <td>Orange</td>\n",
    "      <td>Orange</td>\n",
    "      <td>Tart</td>\n",
    "    </tr>\n",
    "    <tr>\n",
    "      <td>Banana</td>\n",
    "      <td>Yellow</td>\n",
    "      <td>Mildly sweet</td>\n",
    "    </tr>\n",
    "    <tr>\n",
    "      <td>Grape</td>\n",
    "      <td>Purple</td>\n",
    "      <td>Sweet</td>\n",
    "    </tr>\n",
    "  </tbody>\n",
    "</table>\n",
    "    <br><h4>And here's an example of some code, using Python syntax highlighting:</h4>   <br>\n",
    "<head>\n",
    "    <title>Hello World</title>\n",
    "</head>\n",
    "<body>\n",
    "    <h1>Hello World!</h1>\n",
    "    <code>\n",
    "        def welcome():\n",
    "            print(\"Hello World!\")\n",
    "    </code>\n",
    "</body>\n",
    "</html>\n",
    "\n"
   ]
  }
 ],
 "metadata": {
  "kernelspec": {
   "display_name": "Python",
   "language": "python",
   "name": "conda-env-python-py"
  },
  "language_info": {
   "codemirror_mode": {
    "name": "ipython",
    "version": 3
   },
   "file_extension": ".py",
   "mimetype": "text/x-python",
   "name": "python",
   "nbconvert_exporter": "python",
   "pygments_lexer": "ipython3",
   "version": "3.7.12"
  }
 },
 "nbformat": 4,
 "nbformat_minor": 4
}
